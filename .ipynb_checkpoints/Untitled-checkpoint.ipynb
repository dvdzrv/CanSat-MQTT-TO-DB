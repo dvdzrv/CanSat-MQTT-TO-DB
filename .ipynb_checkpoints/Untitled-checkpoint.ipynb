{
 "cells": [
  {
   "cell_type": "code",
   "execution_count": 1,
   "id": "09519bd4-2168-4ebb-a913-aaa01f9bf0a4",
   "metadata": {
    "ExecuteTime": {
     "end_time": "2025-04-07T07:05:44.889731Z",
     "start_time": "2025-04-07T07:05:41.370877Z"
    }
   },
   "outputs": [],
   "source": [
    "import turtle\n",
    "s = turtle.getscreen()\n",
    "\n",
    "t = turtle.Turtle()\n",
    "\n",
    "t.right(90)\n",
    "t.forward(100)\n",
    "t.left(90)\n",
    "t.backward(100)\n",
    "\n",
    "s.mainloop()"
   ]
  },
  {
   "cell_type": "code",
   "execution_count": null,
   "id": "de42b072-f274-4974-bfbb-97ee720e5999",
   "metadata": {},
   "outputs": [],
   "source": [
    "%matplotlib inline\n",
    "import matplotlib.pyplot as plt\n"
   ]
  }
 ],
 "metadata": {
  "kernelspec": {
   "display_name": "Python 3 (ipykernel)",
   "language": "python",
   "name": "python3"
  },
  "language_info": {
   "codemirror_mode": {
    "name": "ipython",
    "version": 3
   },
   "file_extension": ".py",
   "mimetype": "text/x-python",
   "name": "python",
   "nbconvert_exporter": "python",
   "pygments_lexer": "ipython3",
   "version": "3.13.2"
  }
 },
 "nbformat": 4,
 "nbformat_minor": 5
}
